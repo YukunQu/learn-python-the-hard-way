{
 "cells": [
  {
   "cell_type": "code",
   "execution_count": 47,
   "metadata": {},
   "outputs": [
    {
     "name": "stdout",
     "output_type": "stream",
     "text": [
      "The restaurant name is sixth\n",
      "The cuisine type is jingcai\n",
      "sixth is openning\n"
     ]
    }
   ],
   "source": [
    "#create a class\n",
    "class Restaurant():\n",
    "    def __init__(self,name,cuisine_type):\n",
    "        self.name = name\n",
    "        self.type = cuisine_type\n",
    "        self.number_served = 0\n",
    "        \n",
    "    def describe_restaurant(self):\n",
    "        print('The restaurant name is '+ self.name)\n",
    "        print('The cuisine type is '+ self.type)\n",
    "    \n",
    "    def open_restaurant(self):\n",
    "        print( self.name+ ' is openning')\n",
    "        \n",
    "    def read_guest_num(self):\n",
    "        print(str(self.number_served).title() + ' people have already dined in this restaurant.')\n",
    "        \n",
    "    def set_number_served(self,served_guest_num):\n",
    "        self.number_served = served_guest_num\n",
    "        print('There have ' + str(self.number_served).title() + ' customers.')\n",
    "        \n",
    "    def increment_number_served(self,served_everyday):\n",
    "        self.number_served += served_everyday\n",
    "        \n",
    "        \n",
    "restaurant = Restaurant('sixth','jingcai')\n",
    "restaurant.describe_restaurant()\n",
    "restaurant.open_restaurant()"
   ]
  },
  {
   "cell_type": "code",
   "execution_count": 48,
   "metadata": {},
   "outputs": [
    {
     "name": "stdout",
     "output_type": "stream",
     "text": [
      "0 people have already dined in this restaurant.\n"
     ]
    }
   ],
   "source": [
    "restaurant.read_guest_num()\n"
   ]
  },
  {
   "cell_type": "code",
   "execution_count": 49,
   "metadata": {},
   "outputs": [
    {
     "name": "stdout",
     "output_type": "stream",
     "text": [
      "There have 4 customers.\n"
     ]
    }
   ],
   "source": [
    "restaurant.set_number_served(4)"
   ]
  },
  {
   "cell_type": "code",
   "execution_count": 50,
   "metadata": {},
   "outputs": [
    {
     "name": "stdout",
     "output_type": "stream",
     "text": [
      "9 people have already dined in this restaurant.\n"
     ]
    }
   ],
   "source": [
    "restaurant.increment_number_served(5)\n",
    "restaurant.read_guest_num()"
   ]
  },
  {
   "cell_type": "code",
   "execution_count": 63,
   "metadata": {},
   "outputs": [],
   "source": [
    "#create a son calss\n",
    "class Admin(Restaurant):\n",
    "    def __init__(self,name,cuisine_type):\n",
    "        super().__init__(name,cuisine_type)\n",
    "        self.privileges = Privileges()\n",
    "                    \n",
    "#use a instance as attribute            \n",
    "class Privileges():\n",
    "    def __init__(self):\n",
    "        self.privileges = ['can add post','can delete post','can ban user','can add user']\n",
    "\n",
    "    def show_privileges(self):\n",
    "        for i in self.privileges:\n",
    "            print(i.title())\n",
    "\n",
    "    "
   ]
  },
  {
   "cell_type": "code",
   "execution_count": 64,
   "metadata": {},
   "outputs": [
    {
     "name": "stdout",
     "output_type": "stream",
     "text": [
      "Can Add Post\n",
      "Can Delete Post\n",
      "Can Ban User\n",
      "Can Add User\n"
     ]
    }
   ],
   "source": [
    "admin = Admin('sixth','beijing')\n",
    "admin.privileges.show_privileges()"
   ]
  },
  {
   "cell_type": "code",
   "execution_count": null,
   "metadata": {},
   "outputs": [],
   "source": []
  },
  {
   "cell_type": "code",
   "execution_count": null,
   "metadata": {},
   "outputs": [],
   "source": []
  }
 ],
 "metadata": {
  "kernelspec": {
   "display_name": "Python 3",
   "language": "python",
   "name": "python3"
  },
  "language_info": {
   "codemirror_mode": {
    "name": "ipython",
    "version": 3
   },
   "file_extension": ".py",
   "mimetype": "text/x-python",
   "name": "python",
   "nbconvert_exporter": "python",
   "pygments_lexer": "ipython3",
   "version": "3.6.4"
  }
 },
 "nbformat": 4,
 "nbformat_minor": 2
}
